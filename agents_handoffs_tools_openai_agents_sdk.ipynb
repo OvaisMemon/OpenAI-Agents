{
  "nbformat": 4,
  "nbformat_minor": 0,
  "metadata": {
    "colab": {
      "provenance": [],
      "authorship_tag": "ABX9TyM89JD4eryRXBmSBNCduIUz",
      "include_colab_link": true
    },
    "kernelspec": {
      "name": "python3",
      "display_name": "Python 3"
    },
    "language_info": {
      "name": "python"
    }
  },
  "cells": [
    {
      "cell_type": "markdown",
      "metadata": {
        "id": "view-in-github",
        "colab_type": "text"
      },
      "source": [
        "<a href=\"https://colab.research.google.com/github/OvaisMemon/OpenAI-Agents/blob/main/agents_handoffs_tools_openai_agents_sdk.ipynb\" target=\"_parent\"><img src=\"https://colab.research.google.com/assets/colab-badge.svg\" alt=\"Open In Colab\"/></a>"
      ]
    },
    {
      "cell_type": "code",
      "execution_count": 1,
      "metadata": {
        "colab": {
          "base_uri": "https://localhost:8080/"
        },
        "collapsed": true,
        "id": "EDo4K1PxBa3g",
        "outputId": "9348e444-8c02-419f-d521-18b8f1da40b1"
      },
      "outputs": [
        {
          "output_type": "stream",
          "name": "stdout",
          "text": [
            "\u001b[?25l   \u001b[90m━━━━━━━━━━━━━━━━━━━━━━━━━━━━━━━━━━━━━━━━\u001b[0m \u001b[32m0.0/116.8 kB\u001b[0m \u001b[31m?\u001b[0m eta \u001b[36m-:--:--\u001b[0m\r\u001b[2K   \u001b[90m━━━━━━━━━━━━━━━━━━━━━━━━━━━━━━━━━━━━━━━━\u001b[0m \u001b[32m116.8/116.8 kB\u001b[0m \u001b[31m4.2 MB/s\u001b[0m eta \u001b[36m0:00:00\u001b[0m\n",
            "\u001b[?25h\u001b[?25l   \u001b[90m━━━━━━━━━━━━━━━━━━━━━━━━━━━━━━━━━━━━━━━━\u001b[0m \u001b[32m0.0/129.3 kB\u001b[0m \u001b[31m?\u001b[0m eta \u001b[36m-:--:--\u001b[0m\r\u001b[2K   \u001b[90m━━━━━━━━━━━━━━━━━━━━━━━━━━━━━━━━━━━━━━━━\u001b[0m \u001b[32m129.3/129.3 kB\u001b[0m \u001b[31m11.2 MB/s\u001b[0m eta \u001b[36m0:00:00\u001b[0m\n",
            "\u001b[2K   \u001b[90m━━━━━━━━━━━━━━━━━━━━━━━━━━━━━━━━━━━━━━━━\u001b[0m \u001b[32m76.1/76.1 kB\u001b[0m \u001b[31m5.4 MB/s\u001b[0m eta \u001b[36m0:00:00\u001b[0m\n",
            "\u001b[2K   \u001b[90m━━━━━━━━━━━━━━━━━━━━━━━━━━━━━━━━━━━━━━━━\u001b[0m \u001b[32m661.2/661.2 kB\u001b[0m \u001b[31m23.3 MB/s\u001b[0m eta \u001b[36m0:00:00\u001b[0m\n",
            "\u001b[2K   \u001b[90m━━━━━━━━━━━━━━━━━━━━━━━━━━━━━━━━━━━━━━━━\u001b[0m \u001b[32m44.4/44.4 kB\u001b[0m \u001b[31m3.3 MB/s\u001b[0m eta \u001b[36m0:00:00\u001b[0m\n",
            "\u001b[2K   \u001b[90m━━━━━━━━━━━━━━━━━━━━━━━━━━━━━━━━━━━━━━━━\u001b[0m \u001b[32m72.0/72.0 kB\u001b[0m \u001b[31m3.2 MB/s\u001b[0m eta \u001b[36m0:00:00\u001b[0m\n",
            "\u001b[2K   \u001b[90m━━━━━━━━━━━━━━━━━━━━━━━━━━━━━━━━━━━━━━━━\u001b[0m \u001b[32m62.5/62.5 kB\u001b[0m \u001b[31m3.4 MB/s\u001b[0m eta \u001b[36m0:00:00\u001b[0m\n",
            "\u001b[?25h"
          ]
        }
      ],
      "source": [
        "!pip install -Uq openai-agents"
      ]
    },
    {
      "cell_type": "code",
      "source": [
        "import os\n",
        "\n",
        "from agents import Agent, Runner, AsyncOpenAI, OpenAIChatCompletionsModel\n",
        "from agents.run import RunConfig\n",
        "from google.colab import userdata"
      ],
      "metadata": {
        "id": "CA6x-ND7BiuX"
      },
      "execution_count": 2,
      "outputs": []
    },
    {
      "cell_type": "code",
      "source": [
        "gemini_api_key = userdata.get(\"GEMINI_API_KEY\")"
      ],
      "metadata": {
        "id": "QkkE2XgeBtil"
      },
      "execution_count": 3,
      "outputs": []
    },
    {
      "cell_type": "code",
      "source": [
        "external_client = AsyncOpenAI(\n",
        "    api_key=gemini_api_key,\n",
        "    base_url=\"https://generativelanguage.googleapis.com/v1beta/openai/\",\n",
        ")"
      ],
      "metadata": {
        "id": "etWc6NL6Bxft"
      },
      "execution_count": 4,
      "outputs": []
    },
    {
      "cell_type": "code",
      "source": [
        "model = OpenAIChatCompletionsModel(\n",
        "    model=\"gemini-2.0-flash\",\n",
        "    openai_client=external_client\n",
        ")"
      ],
      "metadata": {
        "id": "9hsaIhVXB0yr"
      },
      "execution_count": 5,
      "outputs": []
    },
    {
      "cell_type": "code",
      "source": [
        "# Web Development Agent\n",
        "web_agent = Agent(\n",
        "    name=\"Web Development Assistant\",\n",
        "    instructions=\"You are good at providing answers related to web development\",\n",
        "    model=model,\n",
        "    handoff_description=\"Web Application Development Expert\"\n",
        "  )"
      ],
      "metadata": {
        "id": "Pi8wKVhFCdgO"
      },
      "execution_count": 6,
      "outputs": []
    },
    {
      "cell_type": "code",
      "source": [
        "# App Development Agent\n",
        "app_agent = Agent(\n",
        "    name=\"Mobile App Development Assistant\",\n",
        "    instructions=\"You are good at providing answers related to mobile application development\",\n",
        "    model=model,\n",
        "    handoff_description=\"Mobile Application Development Expert\"\n",
        "  )"
      ],
      "metadata": {
        "id": "YB82SNVdC4UB"
      },
      "execution_count": 7,
      "outputs": []
    },
    {
      "cell_type": "code",
      "source": [
        "# Backend Development Agent\n",
        "backend_agent = Agent(\n",
        "    name=\"Backend Development Agent\",\n",
        "    instructions=\"You are good at providing answers related to the backend development\",\n",
        "    model=model\n",
        "  )"
      ],
      "metadata": {
        "id": "XFUesLiFFhFs"
      },
      "execution_count": 8,
      "outputs": []
    },
    {
      "cell_type": "code",
      "source": [
        "backend_tool = backend_agent.as_tool(\n",
        "    tool_name=\"backend_tool\",\n",
        "    tool_description=\"Backend Tool\"\n",
        ")"
      ],
      "metadata": {
        "id": "oW2G3u-UGBhl"
      },
      "execution_count": 10,
      "outputs": []
    },
    {
      "cell_type": "code",
      "source": [
        "# DevOps Agent\n",
        "devops_agent = Agent(\n",
        "    name=\"DevOps Agent\",\n",
        "    instructions=\"You are good at providing answers related to the DevOps\",\n",
        "    model=model\n",
        "  )"
      ],
      "metadata": {
        "id": "dLptzrBxFzVm"
      },
      "execution_count": 11,
      "outputs": []
    },
    {
      "cell_type": "code",
      "source": [
        "devops_tool = devops_agent.as_tool(\n",
        "    tool_name=\"devops_tool\",\n",
        "    tool_description=\"DevOps Tool\"\n",
        ")"
      ],
      "metadata": {
        "id": "1bSZksXjGKQ3"
      },
      "execution_count": 12,
      "outputs": []
    },
    {
      "cell_type": "code",
      "source": [
        "# Agentic AI Development Agent\n",
        "agentic_agent = Agent(\n",
        "    name=\"Agentic AI Development Assistant\",\n",
        "    instructions=\"You are good at providing answers related to Agentic AI development\",\n",
        "    model=model,\n",
        "    handoff_description=\"Agentic AI Development Expert\",\n",
        "    tools=[backend_tool, devops_tool]\n",
        "  )"
      ],
      "metadata": {
        "id": "Y_JgbaSyF-uN"
      },
      "execution_count": 13,
      "outputs": []
    },
    {
      "cell_type": "code",
      "source": [
        "import nest_asyncio\n",
        "nest_asyncio.apply()"
      ],
      "metadata": {
        "id": "ybOPpDhtITrC"
      },
      "execution_count": 17,
      "outputs": []
    },
    {
      "cell_type": "code",
      "source": [
        "# Triage Agent\n",
        "panacloud_agent = Agent(\n",
        "    name=\"Panacloud Assistant\",\n",
        "    instructions=\"You are a helpful Panacloud assistant\",\n",
        "    model=model,\n",
        "    handoffs=[web_agent, app_agent, agentic_agent]\n",
        "  )\n",
        "\n",
        "result = Runner.run_sync(panacloud_agent, \"Hello, how are you.\")\n",
        "print(result.last_agent.name)\n",
        "print(result.final_output)"
      ],
      "metadata": {
        "colab": {
          "base_uri": "https://localhost:8080/"
        },
        "collapsed": true,
        "id": "1d4Vxb3fDnLH",
        "outputId": "0109f524-3436-414b-86fc-2cd9a3b2e6f7"
      },
      "execution_count": 18,
      "outputs": [
        {
          "output_type": "stream",
          "name": "stderr",
          "text": [
            "/usr/lib/python3.11/importlib/__init__.py:126: RuntimeWarning: coroutine 'Runner.run' was never awaited\n",
            "  return _bootstrap._gcd_import(name[level:], package, level)\n",
            "RuntimeWarning: Enable tracemalloc to get the object allocation traceback\n"
          ]
        },
        {
          "output_type": "stream",
          "name": "stdout",
          "text": [
            "Panacloud Assistant\n",
            "I am doing well, thank you for asking. How can I help you today?\n",
            "\n"
          ]
        }
      ]
    },
    {
      "cell_type": "code",
      "source": [
        "result = Runner.run_sync(panacloud_agent, \"What are the 3 best practices for mobile application development. Use whatever available agents and tools you have.\")\n",
        "print(result.last_agent.name)\n",
        "print(result.final_output)"
      ],
      "metadata": {
        "colab": {
          "base_uri": "https://localhost:8080/"
        },
        "id": "xWDEkcONL6c1",
        "outputId": "2d51cc19-30e7-416a-dd85-f5ba937f52b0"
      },
      "execution_count": 43,
      "outputs": [
        {
          "output_type": "stream",
          "name": "stderr",
          "text": [
            "WARNING:openai.agents:OPENAI_API_KEY is not set, skipping trace export\n"
          ]
        },
        {
          "output_type": "stream",
          "name": "stdout",
          "text": [
            "Mobile App Development Assistant\n",
            "Alright! Here are 3 best practices for mobile application development, keeping in mind factors like performance, user experience, and maintainability:\n",
            "\n",
            "**1. Prioritize User Experience (UX) and User Interface (UI) Design:**\n",
            "\n",
            "*   **Focus on Simplicity and Intuitive Navigation:** Mobile screens are small, and users have short attention spans.  A clean, uncluttered UI with clear navigation is crucial. Use established UI patterns that users are already familiar with (e.g., tab bars for navigation, hamburger menus sparingly). Conduct user testing early and often to validate your design choices. Aim for discoverability: users should be able to easily find what they're looking for.\n",
            "*   **Optimize for Touch:**  Ensure that buttons and interactive elements are large enough and spaced adequately for comfortable tapping. Consider thumb zones (areas of the screen easily reachable with one's thumb) when placing important controls. Provide clear visual feedback for interactions (e.g., button presses).\n",
            "*   **Accessibility:**  Design your app to be accessible to users with disabilities.  This includes providing alternative text for images, supporting screen readers, using sufficient color contrast, and allowing users to adjust font sizes.\n",
            "*   **Performance Awareness:**  Poor performance is a major UX killer. Optimize images, minimize network requests, and use efficient data storage to ensure a smooth and responsive app experience.\n",
            "\n",
            "**2.  Implement Robust Testing Strategies:**\n",
            "\n",
            "*   **Unit Testing:**  Test individual components and functions in isolation to ensure they behave as expected.  This helps catch bugs early in the development process and makes it easier to refactor code later on.\n",
            "*   **UI Testing (End-to-End Testing):**  Simulate user interactions to test the entire app flow.  This helps identify issues related to UI elements, navigation, and data flow.  Tools like Espresso (Android) and XCUITest (iOS) are commonly used for UI testing.\n",
            "*   **Integration Testing:**  Test how different components of your application work together.  This is especially important for apps that rely on external APIs or databases.\n",
            "*   **Device and OS Fragmentation Testing:**  Mobile apps need to work on a wide range of devices and OS versions.  Test your app on a variety of emulators and real devices to identify compatibility issues.  Consider using cloud-based testing platforms like BrowserStack or Sauce Labs to automate this process.\n",
            "*   **Beta Testing:**  Release your app to a small group of real users before the official launch to get feedback and identify any remaining issues.\n",
            "\n",
            "**3.  Optimize for Performance and Minimize Battery Consumption:**\n",
            "\n",
            "*   **Efficient Network Communication:**  Minimize the number of network requests your app makes and optimize the size of the data being transferred. Use techniques like data caching, compression, and pagination. Consider using background tasks responsibly and only when necessary.\n",
            "*   **Memory Management:**  Mobile devices have limited memory.  Avoid memory leaks and use efficient data structures to minimize memory usage. Profile your app's memory usage to identify potential bottlenecks.\n",
            "*   **Background Processing:**  Limit the amount of processing your app does in the background, as this can drain the battery.  Use background tasks sparingly and only when necessary.  Be mindful of the impact on battery life and user experience.\n",
            "*   **Image Optimization:**  Optimize images for mobile devices by reducing their file size and using appropriate compression techniques.  Use different image resolutions for different screen densities. Consider using vector graphics for icons and other simple elements.\n",
            "*   **Code Optimization:**  Write efficient code and avoid unnecessary calculations.  Profile your app's performance to identify bottlenecks and optimize them.\n",
            "\n",
            "These are just three key areas, but mobile app development also involves many other considerations, such as security, data privacy, and choosing the right development platform (native, hybrid, or cross-platform). Good luck!\n",
            "\n"
          ]
        }
      ]
    },
    {
      "cell_type": "code",
      "source": [
        "result = Runner.run_sync(panacloud_agent, \"What are the 3 best practices for agentic AI application development. Use whatever available agents and tools you have.\")\n",
        "print(result.last_agent.name)\n",
        "print(result.final_output)"
      ],
      "metadata": {
        "colab": {
          "base_uri": "https://localhost:8080/"
        },
        "id": "G6HCc1-aL7av",
        "outputId": "79c88d28-7105-4681-eea8-dde290693237"
      },
      "execution_count": 44,
      "outputs": [
        {
          "output_type": "stream",
          "name": "stdout",
          "text": [
            "Agentic AI Development Assistant\n",
            "I am now in Agentic AI Development Assistant mode.\n",
            "\n",
            "While I can't definitively say the \"3 best\" without knowing the specifics of your project, here are three crucial practices for developing agentic AI applications, along with how I can assist you using the available tools:\n",
            "\n",
            "1.  **Modular Design and Tool Integration:** Agentic AI thrives on breaking down complex tasks into smaller, manageable modules. Each module should ideally correspond to a specific tool or capability. Think of it like a toolbox where each tool has a specific purpose.\n",
            "\n",
            "    *   **How I can help:** I can help you to use the available tools (`default_api`, `devops_tool`) to implement different modules. For example, you might use `default_api` for core logic and `devops_tool` for deployment-related tasks.\n",
            "\n",
            "2.  **Robust Task Management and Orchestration:** Agentic systems need a clear mechanism for defining, prioritizing, and executing tasks. This includes handling dependencies between tasks and gracefully recovering from failures.\n",
            "\n",
            "    *   **How I can help:** I can help you design task management strategies, suggesting how to break down a complex goal into smaller steps that can be handled by the available tools.\n",
            "\n",
            "3.  **Observability and Monitoring:**  It's critical to monitor the agent's behavior, track its progress, and identify potential issues. This includes logging actions, errors, and resource usage.\n",
            "\n",
            "    *   **How I can help:** I can help you integrate logging and monitoring into your agentic system by using the available tools to track the execution of tasks and identify any bottlenecks or errors.\n",
            "\n",
            "To give you more tailored advice, I need more information about your specific project. What kind of agentic AI application are you building? What are the primary goals of the agent? What data sources or APIs will it interact with?\n",
            "\n"
          ]
        }
      ]
    },
    {
      "cell_type": "code",
      "source": [
        "result = Runner.run_sync(panacloud_agent, \"What are the 3 best practices for web application development. Use whatever available agents and tools you have.\")\n",
        "print(result.last_agent.name)\n",
        "print(result.final_output)"
      ],
      "metadata": {
        "colab": {
          "base_uri": "https://localhost:8080/"
        },
        "id": "MAis8m9aLq4h",
        "outputId": "30a03be8-7993-4235-d256-b4c3a9a097d7"
      },
      "execution_count": 42,
      "outputs": [
        {
          "output_type": "stream",
          "name": "stderr",
          "text": [
            "WARNING:openai.agents:OPENAI_API_KEY is not set, skipping trace export\n"
          ]
        },
        {
          "output_type": "stream",
          "name": "stdout",
          "text": [
            "Web Development Assistant\n",
            "Okay, here are 3 best practices for web application development, keeping in mind that \"best\" can be subjective and depend on the specific project.  However, these are generally accepted as crucial for building robust, maintainable, and user-friendly web applications:\n",
            "\n",
            "1.  **Prioritize Security (and Implement Security Best Practices at Every Stage):**\n",
            "\n",
            "    *   **Why it's critical:** Security vulnerabilities can lead to data breaches, compromised user accounts, and damage to your reputation.  It's no longer an optional add-on; it *must* be baked into the entire development lifecycle.\n",
            "    *   **Key Actions:**\n",
            "        *   **Input Validation & Sanitization:**  Never trust user input.  Validate all data on both the client-side *and* server-side to prevent injection attacks (SQL injection, Cross-Site Scripting (XSS), etc.).  Sanitize data to remove or encode potentially harmful characters.  Use parameterized queries/prepared statements for database interactions.\n",
            "        *   **Authentication & Authorization:**  Implement strong authentication mechanisms (e.g., multi-factor authentication). Use robust password hashing algorithms (e.g., bcrypt, Argon2).  Implement proper authorization to control access to resources based on user roles and permissions.  Follow the principle of least privilege.\n",
            "        *   **HTTPS:**  Always use HTTPS to encrypt communication between the client and server.  This protects data in transit from eavesdropping.\n",
            "        *   **Keep Dependencies Updated:**  Regularly update all libraries, frameworks, and other dependencies to patch known security vulnerabilities.  Use tools that help identify outdated and vulnerable dependencies.\n",
            "        *   **Regular Security Audits & Penetration Testing:**  Conduct regular security audits and penetration testing to identify and address vulnerabilities before they can be exploited.\n",
            "        *   **Protection against common attacks:**  Implement defenses against common web application attacks such as Cross-Site Request Forgery (CSRF), clickjacking, and DDoS attacks.  Use appropriate security headers (e.g., Content Security Policy, X-Frame-Options).\n",
            "        *   **Error Handling:** Implement proper error handling that prevents sensitive information from being exposed in error messages.\n",
            "        *   **Secrets Management:** Never store API keys, database passwords, or other sensitive information directly in your code. Use environment variables or dedicated secrets management solutions (e.g., HashiCorp Vault, AWS Secrets Manager).\n",
            "\n",
            "2.  **Embrace Responsive Design and Accessibility (Prioritize User Experience for *All* Users):**\n",
            "\n",
            "    *   **Why it's critical:**  Web applications must be accessible to users on a wide range of devices (desktops, tablets, smartphones) and with varying abilities.  A poor user experience can lead to users abandoning your application.\n",
            "    *   **Key Actions:**\n",
            "        *   **Responsive Layouts:**  Use CSS media queries and flexible grid systems (e.g., CSS Grid, Flexbox) to create layouts that adapt to different screen sizes and orientations.  Test on a variety of devices.\n",
            "        *   **Accessibility (WCAG):**  Follow the Web Content Accessibility Guidelines (WCAG) to make your application accessible to people with disabilities.  This includes:\n",
            "            *   Providing alternative text for images.\n",
            "            *   Using semantic HTML.\n",
            "            *   Ensuring sufficient color contrast.\n",
            "            *   Making your application keyboard-navigable.\n",
            "            *   Using ARIA attributes where necessary.\n",
            "        *   **Performance Optimization:** Optimize your application's performance to ensure fast loading times and smooth interactions.  This includes:\n",
            "            *   Minifying and compressing CSS and JavaScript files.\n",
            "            *   Optimizing images.\n",
            "            *   Using browser caching.\n",
            "            *   Code splitting\n",
            "        *   **Usability Testing:**  Conduct usability testing with real users to identify and address usability issues.  Get feedback early and often.\n",
            "        *   **Progressive Enhancement:** Build your application to work with a baseline of functionality for all users, then progressively enhance the experience for users with more advanced browsers or devices.\n",
            "        *   **Clear and Concise Content:** Use clear and concise language in your application's content. Avoid jargon and technical terms that users may not understand.\n",
            "\n",
            "3.  **Write Clean, Maintainable, and Testable Code (Focus on Long-Term Viability):**\n",
            "\n",
            "    *   **Why it's critical:**  Web applications evolve over time.  Clean, well-structured code is easier to understand, modify, and debug, reducing the risk of introducing bugs and making it easier to add new features.\n",
            "    *   **Key Actions:**\n",
            "        *   **Follow Coding Standards:**  Adhere to established coding standards (e.g., PEP 8 for Python, Google JavaScript Style Guide).  Use a linter to enforce coding standards automatically.\n",
            "        *   **Write Modular Code:**  Break your application into smaller, reusable modules or components.  This makes your code easier to understand and test.  Use design patterns (e.g., MVC, MVVM) to structure your application.\n",
            "        *   **Use Version Control (Git):**  Use Git to track changes to your code.  This allows you to easily revert to previous versions if necessary and collaborate with other developers.\n",
            "        *   **Write Unit Tests:**  Write unit tests to verify that individual components of your application are working correctly.  Use test-driven development (TDD) to write tests before you write the code.  Aim for high test coverage.\n",
            "        *   **Write Integration Tests:**  Write integration tests to verify that different components of your application are working together correctly.\n",
            "        *   **Write End-to-End Tests (E2E):** Write E2E tests to simulate user interactions and verify that the entire application is working correctly.\n",
            "        *   **Document Your Code:**  Write clear and concise comments to explain the purpose of your code.  Generate API documentation automatically from your code comments.  Keep documentation up-to-date.\n",
            "        *   **Refactor Regularly:**  Refactor your code regularly to improve its structure and readability.  This helps to prevent code from becoming too complex and difficult to maintain.\n",
            "        *   **Code Reviews:**  Conduct code reviews with other developers to identify potential problems and ensure that code meets quality standards.\n",
            "\n",
            "These three practices – Security, User Experience (Responsiveness & Accessibility), and Clean Code – are fundamental to building successful web applications.  They should be considered throughout the entire development process, from initial planning to deployment and maintenance.\n",
            "\n"
          ]
        }
      ]
    },
    {
      "cell_type": "code",
      "source": [
        "result = Runner.run_sync(panacloud_agent, \"What is crucial for backend developers who works in agentic AI projects. Use whatever available agents and tools you have.\")\n",
        "print(result.last_agent.name)\n",
        "print(result.final_output)"
      ],
      "metadata": {
        "colab": {
          "base_uri": "https://localhost:8080/"
        },
        "id": "0X5DOYzKLhEO",
        "outputId": "053badde-7307-4ffc-ec6a-e01b4529ebaa"
      },
      "execution_count": 41,
      "outputs": [
        {
          "output_type": "stream",
          "name": "stderr",
          "text": [
            "WARNING:openai.agents:OPENAI_API_KEY is not set, skipping trace export\n"
          ]
        },
        {
          "output_type": "stream",
          "name": "stdout",
          "text": [
            "Agentic AI Development Assistant\n",
            "Backend developers working on Agentic AI projects need a strong understanding of several key areas. They should be proficient in designing and implementing robust APIs for agents to interact with, focusing on efficiency and security. Knowledge of data management is crucial, including working with various databases and data pipelines to provide agents with the information they need. They should also be skilled in building scalable and reliable infrastructure to support the execution of agents, potentially using cloud-based services. Furthermore, understanding the principles of AI and machine learning is beneficial, as it allows them to better integrate agents into the overall system and optimize their performance. Collaboration and communication skills are also essential, as backend developers need to work closely with data scientists, AI engineers, and other team members to ensure the successful development and deployment of Agentic AI solutions.\n",
            "\n"
          ]
        }
      ]
    },
    {
      "cell_type": "code",
      "source": [
        "result = Runner.run_sync(panacloud_agent, \"What is crucial for DevOps engineers who works in agentic AI deployments. Use whatever available agents and tools you have.\")\n",
        "print(result.last_agent.name)\n",
        "print(result.final_output)"
      ],
      "metadata": {
        "colab": {
          "base_uri": "https://localhost:8080/"
        },
        "collapsed": true,
        "id": "EnKHVI1VFgZy",
        "outputId": "915e5291-4349-40f7-8117-de2cc05ff3d0"
      },
      "execution_count": 40,
      "outputs": [
        {
          "output_type": "stream",
          "name": "stderr",
          "text": [
            "WARNING:openai.agents:OPENAI_API_KEY is not set, skipping trace export\n"
          ]
        },
        {
          "output_type": "stream",
          "name": "stdout",
          "text": [
            "Agentic AI Development Assistant\n",
            "For DevOps engineers working in agentic AI deployments, several factors are crucial:\n",
            "\n",
            "1.  **Infrastructure as Code (IaC):** Agentic AI systems often require dynamic and scalable infrastructure. DevOps engineers should be proficient in using IaC tools (e.g., Terraform, Ansible, CloudFormation) to automate the provisioning and management of resources.\n",
            "\n",
            "2.  **Containerization and Orchestration:** Container technologies like Docker and orchestration platforms like Kubernetes are essential for deploying and managing agentic AI applications. DevOps engineers need expertise in containerizing applications, defining deployment configurations, and managing container lifecycles.\n",
            "\n",
            "3.  **CI/CD Pipelines:** Implementing robust CI/CD pipelines is crucial for automating the build, test, and deployment processes of agentic AI systems. DevOps engineers should be able to design and maintain pipelines that support continuous integration, continuous delivery, and continuous deployment.\n",
            "\n",
            "4.  **Monitoring and Logging:** Agentic AI systems can be complex and require comprehensive monitoring and logging to ensure their health and performance. DevOps engineers should implement monitoring solutions that track key metrics, detect anomalies, and provide insights into system behavior.\n",
            "\n",
            "5.  **Security:** Security is paramount in agentic AI deployments. DevOps engineers should implement security best practices throughout the development and deployment lifecycle, including vulnerability scanning, penetration testing, and access control.\n",
            "\n",
            "6.  **Collaboration and Communication:** Effective collaboration and communication between DevOps engineers, data scientists, and AI developers are essential for successful agentic AI deployments. DevOps engineers should be able to bridge the gap between these different disciplines and facilitate seamless collaboration.\n",
            "\n",
            "7.  **Understanding of AI/ML Concepts:** While DevOps engineers don't need to be AI/ML experts, a basic understanding of AI/ML concepts is helpful for troubleshooting issues and optimizing deployments. They should be familiar with common AI/ML frameworks, libraries, and deployment patterns.\n",
            "\n",
            "8.  **Version Control:** Agentic AI development involves managing code, models, and data. DevOps engineers should enforce strict version control practices using tools like Git to track changes, collaborate effectively, and ensure reproducibility.\n",
            "\n",
            "9.  **Experimentation and A/B Testing:** Agentic AI systems often require experimentation and A/B testing to optimize their performance. DevOps engineers should provide infrastructure and tools to support these activities, such as traffic splitting, feature flags, and performance monitoring.\n",
            "\n",
            "10. **Scalability and Performance:** Agentic AI systems can be resource-intensive and require careful attention to scalability and performance. DevOps engineers should design deployments that can handle increasing workloads and optimize resource utilization.\n",
            "\n"
          ]
        }
      ]
    }
  ]
}